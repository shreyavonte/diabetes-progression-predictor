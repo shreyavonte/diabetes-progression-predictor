{
  "nbformat": 4,
  "nbformat_minor": 0,
  "metadata": {
    "colab": {
      "provenance": []
    },
    "kernelspec": {
      "name": "python3",
      "display_name": "Python 3"
    },
    "language_info": {
      "name": "python"
    }
  },
  "cells": [
    {
      "cell_type": "code",
      "execution_count": 25,
      "metadata": {
        "id": "GC9glCbeN_6t"
      },
      "outputs": [],
      "source": [
        "#Importing Libraries\n",
        "import pandas as pd\n",
        "import numpy as np\n",
        "import matplotlib.pyplot as plt\n",
        "import seaborn as sns\n",
        "\n",
        "from sklearn.datasets import load_diabetes\n",
        "from sklearn.model_selection import train_test_split\n",
        "from sklearn.linear_model import LinearRegression, Ridge, Lasso\n",
        "from sklearn.metrics import mean_absolute_error, mean_squared_error, r2_score"
      ]
    },
    {
      "cell_type": "code",
      "source": [
        "#Loading dataset\n",
        "diabetes = load_diabetes()\n",
        "X = pd.DataFrame(diabetes.data, columns=diabetes.feature_names)\n",
        "y = diabetes.target"
      ],
      "metadata": {
        "id": "G_AbMPz7RNrs"
      },
      "execution_count": 26,
      "outputs": []
    },
    {
      "cell_type": "code",
      "source": [
        "#Previewing the dataset\n",
        "print(X.head())\n",
        "print(y[:5])"
      ],
      "metadata": {
        "colab": {
          "base_uri": "https://localhost:8080/"
        },
        "id": "_Gj8Hb5-Rze_",
        "outputId": "0cc59d9b-889e-4985-d705-c75e7a50a6ee"
      },
      "execution_count": 27,
      "outputs": [
        {
          "output_type": "stream",
          "name": "stdout",
          "text": [
            "        age       sex       bmi        bp        s1        s2        s3  \\\n",
            "0  0.038076  0.050680  0.061696  0.021872 -0.044223 -0.034821 -0.043401   \n",
            "1 -0.001882 -0.044642 -0.051474 -0.026328 -0.008449 -0.019163  0.074412   \n",
            "2  0.085299  0.050680  0.044451 -0.005670 -0.045599 -0.034194 -0.032356   \n",
            "3 -0.089063 -0.044642 -0.011595 -0.036656  0.012191  0.024991 -0.036038   \n",
            "4  0.005383 -0.044642 -0.036385  0.021872  0.003935  0.015596  0.008142   \n",
            "\n",
            "         s4        s5        s6  \n",
            "0 -0.002592  0.019907 -0.017646  \n",
            "1 -0.039493 -0.068332 -0.092204  \n",
            "2 -0.002592  0.002861 -0.025930  \n",
            "3  0.034309  0.022688 -0.009362  \n",
            "4 -0.002592 -0.031988 -0.046641  \n",
            "[151.  75. 141. 206. 135.]\n"
          ]
        }
      ]
    },
    {
      "cell_type": "code",
      "source": [
        "#Normalizaton Check\n",
        "print(\"Data is normalized: Mean =\", round(X.mean()[0], 3), \"| Std Dev =\", round(X.std()[0], 3))"
      ],
      "metadata": {
        "colab": {
          "base_uri": "https://localhost:8080/"
        },
        "id": "qi2ZRiOcR6hH",
        "outputId": "772837c8-dd5d-4b1b-afdd-df3d5506d981"
      },
      "execution_count": 28,
      "outputs": [
        {
          "output_type": "stream",
          "name": "stdout",
          "text": [
            "Data is normalized: Mean = -0.0 | Std Dev = 0.048\n"
          ]
        },
        {
          "output_type": "stream",
          "name": "stderr",
          "text": [
            "<ipython-input-28-665d07a3b911>:2: FutureWarning: Series.__getitem__ treating keys as positions is deprecated. In a future version, integer keys will always be treated as labels (consistent with DataFrame behavior). To access a value by position, use `ser.iloc[pos]`\n",
            "  print(\"Data is normalized: Mean =\", round(X.mean()[0], 3), \"| Std Dev =\", round(X.std()[0], 3))\n"
          ]
        }
      ]
    },
    {
      "cell_type": "code",
      "source": [
        "#Feature engineering- interactive terms\n",
        "X['bmi_bp'] = X['bmi'] * X['bp']\n",
        "X['bmi_glucose'] = X['bmi'] * X['s5']  # s5 is a proxy for glucose\n",
        "X['age_glucose'] = X['age'] * X['s5']"
      ],
      "metadata": {
        "id": "MwutNbtcSZtn"
      },
      "execution_count": 29,
      "outputs": []
    },
    {
      "cell_type": "code",
      "source": [
        "#train-test split\n",
        "X_train, X_test, y_train, y_test = train_test_split(X, y, test_size=0.2, random_state=42)"
      ],
      "metadata": {
        "id": "ERgMOksLTldS"
      },
      "execution_count": 30,
      "outputs": []
    },
    {
      "cell_type": "code",
      "source": [
        "#Models put to keys\n",
        "models = {\n",
        "    'Linear': LinearRegression(),\n",
        "    'Ridge': Ridge(alpha=1.0),\n",
        "    'Lasso': Lasso(alpha=0.1)\n",
        "}"
      ],
      "metadata": {
        "id": "O4ss9h8xUFUr"
      },
      "execution_count": 31,
      "outputs": []
    },
    {
      "cell_type": "code",
      "source": [
        "#Fit models and evaluate\n",
        "results = {}\n",
        "\n",
        "for name, model in models.items():\n",
        "    model.fit(X_train, y_train)\n",
        "    y_pred = model.predict(X_test)\n",
        "    results[name] = {\n",
        "        'model': model,\n",
        "        'MAE': mean_absolute_error(y_test, y_pred),\n",
        "        'R²': r2_score(y_test, y_pred)\n",
        "    }"
      ],
      "metadata": {
        "id": "9R41UYKtU_VE"
      },
      "execution_count": 38,
      "outputs": []
    },
    {
      "cell_type": "code",
      "source": [
        "#Show Results\n",
        "print(\"📊 Model Comparison\")\n",
        "for name, res in results.items():\n",
        "    print(f\"{name}: MAE = {res['MAE']:.2f}, R² = {res['R²']:.2f}\")"
      ],
      "metadata": {
        "colab": {
          "base_uri": "https://localhost:8080/"
        },
        "id": "MAMwqP78WtLy",
        "outputId": "0f175237-66b0-4213-c4b3-90a73cea18e5"
      },
      "execution_count": 39,
      "outputs": [
        {
          "output_type": "stream",
          "name": "stdout",
          "text": [
            "📊 Model Comparison\n",
            "Linear: MAE = 41.10, R² = 0.49\n",
            "Ridge: MAE = 46.13, R² = 0.42\n",
            "Lasso: MAE = 42.85, R² = 0.47\n"
          ]
        }
      ]
    },
    {
      "cell_type": "code",
      "source": [
        "best_model = results['Lasso']['model']\n",
        "coeffs = pd.Series(best_model.coef_, index=X.columns).sort_values(key=abs, ascending=False)\n",
        "\n",
        "print(\"\\n Top Feature Coefficients (Lasso):\")\n",
        "print(coeffs.head(5))"
      ],
      "metadata": {
        "colab": {
          "base_uri": "https://localhost:8080/"
        },
        "id": "bp5OW_4dXKAk",
        "outputId": "f4ef72df-c8e5-47f1-d25b-eb7abe76be6b"
      },
      "execution_count": 40,
      "outputs": [
        {
          "output_type": "stream",
          "name": "stdout",
          "text": [
            "\n",
            " Top Feature Coefficients (Lasso):\n",
            "bmi    552.697775\n",
            "s5     447.919525\n",
            "bp     303.365158\n",
            "s3    -229.255776\n",
            "sex   -152.664779\n",
            "dtype: float64\n"
          ]
        }
      ]
    },
    {
      "cell_type": "code",
      "source": [
        "#plot coefficients\n",
        "coeffs.plot(kind='barh', figsize=(10, 6), title='Feature Importance (Lasso)')\n",
        "plt.gca().invert_yaxis()\n",
        "plt.show()"
      ],
      "metadata": {
        "colab": {
          "base_uri": "https://localhost:8080/",
          "height": 545
        },
        "id": "OvlxFEh2YOFS",
        "outputId": "7c925864-8819-4a7e-f2e6-1b6a269a82ad"
      },
      "execution_count": 42,
      "outputs": [
        {
          "output_type": "display_data",
          "data": {
            "text/plain": [
              "<Figure size 1000x600 with 1 Axes>"
            ],
            "image/png": "[encoded data removed]"
          },
          "metadata": {}
        }
      ]
    },
    {
      "cell_type": "code",
      "source": [
        "#Actionable Insights\n",
        "print(\"Actionable Insights:\")\n",
        "top_features = coeffs.head(3).index.tolist()\n",
        "print(f\"Top 3 high-risk factors: {', '.join(top_features)}\")\n",
        "print(\"→ Suggest prioritizing these in screenings and early interventions.\")"
      ],
      "metadata": {
        "colab": {
          "base_uri": "https://localhost:8080/"
        },
        "id": "Wk4uP8UVYXDY",
        "outputId": "b439c677-60a9-4e3a-a651-9bf699519ba1"
      },
      "execution_count": 44,
      "outputs": [
        {
          "output_type": "stream",
          "name": "stdout",
          "text": [
            "Actionable Insights:\n",
            "Top 3 high-risk factors: bmi, s5, bp\n",
            "→ Suggest prioritizing these in screenings and early interventions.\n"
          ]
        }
      ]
    },
    {
      "cell_type": "code",
      "source": [
        "import pickle\n",
        "\n",
        "with open('diabetes_model.pkl', 'wb') as f:\n",
        "    pickle.dump(best_model, f)"
      ],
      "metadata": {
        "id": "BQfXFgpmZNIL"
      },
      "execution_count": 45,
      "outputs": []
    },
    {
      "cell_type": "code",
      "source": [],
      "metadata": {
        "id": "VsbcxzQqq9Ym"
      },
      "execution_count": null,
      "outputs": []
    }
  ]
}